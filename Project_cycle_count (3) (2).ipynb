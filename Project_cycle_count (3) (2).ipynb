{
 "cells": [
  {
   "cell_type": "markdown",
   "id": "5e3b759f",
   "metadata": {},
   "source": [
    "# Prediction of bike count demand in bike sharing system"
   ]
  },
  {
   "cell_type": "markdown",
   "id": "08d73da8",
   "metadata": {},
   "source": [
    "## 1. INTRODUCTION"
   ]
  },
  {
   "cell_type": "markdown",
   "id": "658876c3",
   "metadata": {},
   "source": [
    "Bike-sharing start-ups are growing rapidly, these companies provide a fleet of bikes for short-term rental to commuters, tourists, and enthusiasts. While the business is flourishing, it faces the challenge of unpredictable demand fluctuations. On certain days, there are too few bikes available to meet customer demand, leading to dissatisfaction and lost revenue. Conversely, on other days, there is an excess of bikes leading to unnecessary operational costs. The founder of the company is keen to enhance customer satisfaction and optimize operational efficiency by accurately predicting the demand for bikes."
   ]
  },
  {
   "cell_type": "markdown",
   "id": "de3f8c91",
   "metadata": {},
   "source": [
    "### Authored by: Team DATA CHAMPS\n",
    "\n",
    "#### Team Members :\n",
    "- Prudhvi Teja Mamid\n",
    "- Vinesh Narendra Sangoi\n",
    "- Suhit Kaluvapalli\n",
    "- Yashwanth Bharadwaj Nandamuru\n",
    "- Chaitanya Sai Kunapareddy\n",
    "- Nikhil Kacham"
   ]
  },
  {
   "cell_type": "markdown",
   "id": "fc609e5d",
   "metadata": {},
   "source": [
    "## 1.1 Problem statement"
   ]
  },
  {
   "cell_type": "markdown",
   "id": "01f8b034",
   "metadata": {},
   "source": [
    "The primary goal of this data science project is to develop a predictive model that can forecast the number of bikes that will be rented on a given day based on various factors, including weather conditions, the time of year, and the time of day. This predictive model will enable the bike-sharing start-up to make informed decisions about bike allocation and resource management, thereby minimizing under-supply or over-supply situations."
   ]
  },
  {
   "cell_type": "markdown",
   "id": "c4f72136",
   "metadata": {},
   "source": [
    "## 1.2 Evaluation metrics"
   ]
  },
  {
   "cell_type": "markdown",
   "id": "d21e7376",
   "metadata": {},
   "source": [
    "Here we classified bike count to 5 categories based on the demand at a particular hour in a day .\n",
    "Main operation cost for the system incur during the deployment of cycles in docking stations these cost  varies with the number of cycles deployed to the docking  stations.\n",
    "If we deploy more cycles than required  number we incur losses as more operation cost than the revenue and it creates, If we deploy less number of cycles it created loss in revenue. So the model should predict the 5 categories of cycle count and it should maximize the profit."
   ]
  },
  {
   "cell_type": "markdown",
   "id": "23c5ccca",
   "metadata": {},
   "source": [
    "Evaluation:\n",
    "1. The revenue per cycle per hour is 80 Won\n",
    "2. AVG cost occur per cycle per hour for balancing the cycle count, deploying to stations and other operation and Maintenance cost is 40 Won\n",
    "3. Profit per hour per cycle  = renvue generated per cycle per hour - cost incurred due to deploymnet of cycle\n",
    "4. True positives are the instances where model predict the actual demand, we multiply the demand with difference of revenue and cost (i.e 80-40=40 Won\n",
    "5. False positives are the instances where model under predict the bike count and we incur losss for not  deploying the require number of bikes = (actual-predict)40, \n",
    "6. False_postive_profit= actual_profit_TP- (actual-predict)40.\n",
    "7. False negatives are the instances where model over predict  bike count and we incur losss for deploying more than required=(predict-actual)40\n",
    "8. False negative profit = actual profit TP -(actual-predict)40 \n",
    "9. Here we assumed that the operations const is 50% of toal revenue so we are getting equal values for FP and FN.\n",
    "10. As were are giving equal importance to both FN and FP we can consider F1 score as the best metrics along with that the model total profit should be maximmum."
   ]
  },
  {
   "cell_type": "markdown",
   "id": "0e2b1dca",
   "metadata": {},
   "source": [
    "## 2.Data loading and pre preocessing"
   ]
  },
  {
   "cell_type": "code",
   "execution_count": 261,
   "id": "129282b3",
   "metadata": {},
   "outputs": [],
   "source": [
    "# libraries for calculations\n",
    "import pandas as pd\n",
    "import numpy as np\n",
    "\n",
    "# libraries for models\n",
    "from sklearn.model_selection import train_test_split\n",
    "from sklearn.svm import SVC\n",
    "from sklearn.tree import DecisionTreeClassifier\n",
    "\n",
    "\n",
    "# libraries for standandadization of data.\n",
    "from sklearn.preprocessing import StandardScaler\n",
    "\n",
    "\n",
    "\n",
    "# libraries for model evaluation metrics\n",
    "from sklearn.metrics import accuracy_score, precision_score, recall_score, f1_score, confusion_matrix, ConfusionMatrixDisplay,classification_report\n",
    "import matplotlib.pyplot as plt\n",
    "\n",
    "# libraries for balancing data\n",
    "from imblearn.over_sampling import SMOTE\n",
    "\n",
    "#libraries for hper parameter tuning\n",
    "from sklearn.model_selection import GridSearchCV, RandomizedSearchCV\n",
    "from sklearn.model_selection import RepeatedStratifiedKFold\n",
    "from sklearn.tree import DecisionTreeClassifier\n",
    "\n",
    "from sklearn.ensemble import RandomForestClassifier, GradientBoostingClassifier, AdaBoostClassifier\n",
    "from sklearn.preprocessing import LabelEncoder\n",
    "from xgboost import XGBClassifier\n",
    "from sklearn.neural_network import MLPClassifier\n",
    "from sklearn.neighbors import KNeighborsClassifier \n",
    "\n",
    "\n",
    "\n",
    "import warnings\n",
    "warnings.filterwarnings(\"ignore\")\n",
    "\n",
    "from matplotlib import pyplot as plt\n",
    "import seaborn as sns\n",
    "\n",
    "# random seed value\n",
    "np.random.seed(42)\n",
    "random_seed=42"
   ]
  },
  {
   "cell_type": "markdown",
   "id": "788d8aef",
   "metadata": {},
   "source": [
    "## 2.1 Loading data"
   ]
  },
  {
   "cell_type": "code",
   "execution_count": 262,
   "id": "37d98636",
   "metadata": {},
   "outputs": [],
   "source": [
    "df=pd.read_csv('Seoul_data.csv')"
   ]
  },
  {
   "cell_type": "code",
   "execution_count": 263,
   "id": "188259f4",
   "metadata": {
    "scrolled": true
   },
   "outputs": [
    {
     "data": {
      "text/html": [
       "<div>\n",
       "<style scoped>\n",
       "    .dataframe tbody tr th:only-of-type {\n",
       "        vertical-align: middle;\n",
       "    }\n",
       "\n",
       "    .dataframe tbody tr th {\n",
       "        vertical-align: top;\n",
       "    }\n",
       "\n",
       "    .dataframe thead th {\n",
       "        text-align: right;\n",
       "    }\n",
       "</style>\n",
       "<table border=\"1\" class=\"dataframe\">\n",
       "  <thead>\n",
       "    <tr style=\"text-align: right;\">\n",
       "      <th></th>\n",
       "      <th>Date</th>\n",
       "      <th>Rented Bike Count</th>\n",
       "      <th>Hour</th>\n",
       "      <th>Temperature(°C)</th>\n",
       "      <th>Humidity(%)</th>\n",
       "      <th>Wind speed (m/s)</th>\n",
       "      <th>Visibility (10m)</th>\n",
       "      <th>Dew point temperature(°C)</th>\n",
       "      <th>Solar Radiation (MJ/m2)</th>\n",
       "      <th>Rainfall(mm)</th>\n",
       "      <th>Snowfall (cm)</th>\n",
       "      <th>Seasons</th>\n",
       "      <th>Holiday</th>\n",
       "      <th>Functioning Day</th>\n",
       "    </tr>\n",
       "  </thead>\n",
       "  <tbody>\n",
       "    <tr>\n",
       "      <th>0</th>\n",
       "      <td>12/01/17</td>\n",
       "      <td>254</td>\n",
       "      <td>0</td>\n",
       "      <td>-5.2</td>\n",
       "      <td>37</td>\n",
       "      <td>2.2</td>\n",
       "      <td>2000</td>\n",
       "      <td>-17.6</td>\n",
       "      <td>0.0</td>\n",
       "      <td>0.0</td>\n",
       "      <td>0.0</td>\n",
       "      <td>Winter</td>\n",
       "      <td>No Holiday</td>\n",
       "      <td>Yes</td>\n",
       "    </tr>\n",
       "    <tr>\n",
       "      <th>1</th>\n",
       "      <td>12/01/17</td>\n",
       "      <td>204</td>\n",
       "      <td>1</td>\n",
       "      <td>-5.5</td>\n",
       "      <td>38</td>\n",
       "      <td>0.8</td>\n",
       "      <td>2000</td>\n",
       "      <td>-17.6</td>\n",
       "      <td>0.0</td>\n",
       "      <td>0.0</td>\n",
       "      <td>0.0</td>\n",
       "      <td>Winter</td>\n",
       "      <td>No Holiday</td>\n",
       "      <td>Yes</td>\n",
       "    </tr>\n",
       "    <tr>\n",
       "      <th>2</th>\n",
       "      <td>12/01/17</td>\n",
       "      <td>173</td>\n",
       "      <td>2</td>\n",
       "      <td>-6.0</td>\n",
       "      <td>39</td>\n",
       "      <td>1.0</td>\n",
       "      <td>2000</td>\n",
       "      <td>-17.7</td>\n",
       "      <td>0.0</td>\n",
       "      <td>0.0</td>\n",
       "      <td>0.0</td>\n",
       "      <td>Winter</td>\n",
       "      <td>No Holiday</td>\n",
       "      <td>Yes</td>\n",
       "    </tr>\n",
       "    <tr>\n",
       "      <th>3</th>\n",
       "      <td>12/01/17</td>\n",
       "      <td>107</td>\n",
       "      <td>3</td>\n",
       "      <td>-6.2</td>\n",
       "      <td>40</td>\n",
       "      <td>0.9</td>\n",
       "      <td>2000</td>\n",
       "      <td>-17.6</td>\n",
       "      <td>0.0</td>\n",
       "      <td>0.0</td>\n",
       "      <td>0.0</td>\n",
       "      <td>Winter</td>\n",
       "      <td>No Holiday</td>\n",
       "      <td>Yes</td>\n",
       "    </tr>\n",
       "    <tr>\n",
       "      <th>4</th>\n",
       "      <td>12/01/17</td>\n",
       "      <td>78</td>\n",
       "      <td>4</td>\n",
       "      <td>-6.0</td>\n",
       "      <td>36</td>\n",
       "      <td>2.3</td>\n",
       "      <td>2000</td>\n",
       "      <td>-18.6</td>\n",
       "      <td>0.0</td>\n",
       "      <td>0.0</td>\n",
       "      <td>0.0</td>\n",
       "      <td>Winter</td>\n",
       "      <td>No Holiday</td>\n",
       "      <td>Yes</td>\n",
       "    </tr>\n",
       "  </tbody>\n",
       "</table>\n",
       "</div>"
      ],
      "text/plain": [
       "       Date  Rented Bike Count  Hour  Temperature(°C)  Humidity(%)  \\\n",
       "0  12/01/17                254     0             -5.2           37   \n",
       "1  12/01/17                204     1             -5.5           38   \n",
       "2  12/01/17                173     2             -6.0           39   \n",
       "3  12/01/17                107     3             -6.2           40   \n",
       "4  12/01/17                 78     4             -6.0           36   \n",
       "\n",
       "   Wind speed (m/s)  Visibility (10m)  Dew point temperature(°C)  \\\n",
       "0               2.2              2000                      -17.6   \n",
       "1               0.8              2000                      -17.6   \n",
       "2               1.0              2000                      -17.7   \n",
       "3               0.9              2000                      -17.6   \n",
       "4               2.3              2000                      -18.6   \n",
       "\n",
       "   Solar Radiation (MJ/m2)  Rainfall(mm)  Snowfall (cm) Seasons     Holiday  \\\n",
       "0                      0.0           0.0            0.0  Winter  No Holiday   \n",
       "1                      0.0           0.0            0.0  Winter  No Holiday   \n",
       "2                      0.0           0.0            0.0  Winter  No Holiday   \n",
       "3                      0.0           0.0            0.0  Winter  No Holiday   \n",
       "4                      0.0           0.0            0.0  Winter  No Holiday   \n",
       "\n",
       "  Functioning Day  \n",
       "0             Yes  \n",
       "1             Yes  \n",
       "2             Yes  \n",
       "3             Yes  \n",
       "4             Yes  "
      ]
     },
     "execution_count": 263,
     "metadata": {},
     "output_type": "execute_result"
    }
   ],
   "source": [
    "df.head()"
   ]
  },
  {
   "attachments": {},
   "cell_type": "markdown",
   "id": "ca55e475",
   "metadata": {},
   "source": [
    "> For better understanding of the Data, Here are names of attributes\n",
    "- Rented Bike count — Count of bikes rented at each hour.\n",
    "- Date: year-month-day \n",
    "- Hour — Hour of the day\n",
    "- Temperature-Temperature in Celsius\n",
    "- Humidity — %\n",
    "- Windspeed — m/s\n",
    "- Visibility — 10m\n",
    "- Dew point temperature — Celsius\n",
    "- Solar radiation — MJ/m2\n",
    "- Rainfall — mm\n",
    "- Snowfall — cm\n",
    "- Seasons — Winter, Spring, Summer, Autumn\n",
    "- Holiday — Holiday/No holiday\n",
    "- Functional Day — No Func (Non-Functional Hours), Fun(Functional hours)\n"
   ]
  },
  {
   "cell_type": "code",
   "execution_count": 264,
   "id": "076099e3",
   "metadata": {},
   "outputs": [
    {
     "name": "stdout",
     "output_type": "stream",
     "text": [
      "Duplicate entry in data: 0\n"
     ]
    }
   ],
   "source": [
    "# Check for duplicated entries.\n",
    "print(\"Duplicate entry in data:\",len(df[df.duplicated()]))"
   ]
  },
  {
   "cell_type": "code",
   "execution_count": 265,
   "id": "65271298",
   "metadata": {},
   "outputs": [
    {
     "name": "stdout",
     "output_type": "stream",
     "text": [
      "Total Rows and Columns in DataFrame is : (8760, 14) \n",
      "\n"
     ]
    }
   ],
   "source": [
    "# Shape of the data.\n",
    "print(\"Total Rows and Columns in DataFrame is :\",df.shape,\"\\n\") "
   ]
  },
  {
   "cell_type": "markdown",
   "id": "9140e197",
   "metadata": {},
   "source": [
    "### 2.2 Describing data"
   ]
  },
  {
   "cell_type": "code",
   "execution_count": 266,
   "id": "0220bb91",
   "metadata": {},
   "outputs": [
    {
     "data": {
      "text/html": [
       "<div>\n",
       "<style scoped>\n",
       "    .dataframe tbody tr th:only-of-type {\n",
       "        vertical-align: middle;\n",
       "    }\n",
       "\n",
       "    .dataframe tbody tr th {\n",
       "        vertical-align: top;\n",
       "    }\n",
       "\n",
       "    .dataframe thead th {\n",
       "        text-align: right;\n",
       "    }\n",
       "</style>\n",
       "<table border=\"1\" class=\"dataframe\">\n",
       "  <thead>\n",
       "    <tr style=\"text-align: right;\">\n",
       "      <th></th>\n",
       "      <th>count</th>\n",
       "      <th>mean</th>\n",
       "      <th>std</th>\n",
       "      <th>min</th>\n",
       "      <th>25%</th>\n",
       "      <th>50%</th>\n",
       "      <th>75%</th>\n",
       "      <th>max</th>\n",
       "    </tr>\n",
       "  </thead>\n",
       "  <tbody>\n",
       "    <tr>\n",
       "      <th>Rented Bike Count</th>\n",
       "      <td>8760.0</td>\n",
       "      <td>704.602055</td>\n",
       "      <td>644.997468</td>\n",
       "      <td>0.0</td>\n",
       "      <td>191.00</td>\n",
       "      <td>504.50</td>\n",
       "      <td>1065.25</td>\n",
       "      <td>3556.00</td>\n",
       "    </tr>\n",
       "    <tr>\n",
       "      <th>Hour</th>\n",
       "      <td>8760.0</td>\n",
       "      <td>11.500000</td>\n",
       "      <td>6.922582</td>\n",
       "      <td>0.0</td>\n",
       "      <td>5.75</td>\n",
       "      <td>11.50</td>\n",
       "      <td>17.25</td>\n",
       "      <td>23.00</td>\n",
       "    </tr>\n",
       "    <tr>\n",
       "      <th>Temperature(°C)</th>\n",
       "      <td>8760.0</td>\n",
       "      <td>12.882922</td>\n",
       "      <td>11.944825</td>\n",
       "      <td>-17.8</td>\n",
       "      <td>3.50</td>\n",
       "      <td>13.70</td>\n",
       "      <td>22.50</td>\n",
       "      <td>39.40</td>\n",
       "    </tr>\n",
       "    <tr>\n",
       "      <th>Humidity(%)</th>\n",
       "      <td>8760.0</td>\n",
       "      <td>58.226256</td>\n",
       "      <td>20.362413</td>\n",
       "      <td>0.0</td>\n",
       "      <td>42.00</td>\n",
       "      <td>57.00</td>\n",
       "      <td>74.00</td>\n",
       "      <td>98.00</td>\n",
       "    </tr>\n",
       "    <tr>\n",
       "      <th>Wind speed (m/s)</th>\n",
       "      <td>8760.0</td>\n",
       "      <td>1.724909</td>\n",
       "      <td>1.036300</td>\n",
       "      <td>0.0</td>\n",
       "      <td>0.90</td>\n",
       "      <td>1.50</td>\n",
       "      <td>2.30</td>\n",
       "      <td>7.40</td>\n",
       "    </tr>\n",
       "    <tr>\n",
       "      <th>Visibility (10m)</th>\n",
       "      <td>8760.0</td>\n",
       "      <td>1436.825799</td>\n",
       "      <td>608.298712</td>\n",
       "      <td>27.0</td>\n",
       "      <td>940.00</td>\n",
       "      <td>1698.00</td>\n",
       "      <td>2000.00</td>\n",
       "      <td>2000.00</td>\n",
       "    </tr>\n",
       "    <tr>\n",
       "      <th>Dew point temperature(°C)</th>\n",
       "      <td>8760.0</td>\n",
       "      <td>4.073813</td>\n",
       "      <td>13.060369</td>\n",
       "      <td>-30.6</td>\n",
       "      <td>-4.70</td>\n",
       "      <td>5.10</td>\n",
       "      <td>14.80</td>\n",
       "      <td>27.20</td>\n",
       "    </tr>\n",
       "    <tr>\n",
       "      <th>Solar Radiation (MJ/m2)</th>\n",
       "      <td>8760.0</td>\n",
       "      <td>0.569111</td>\n",
       "      <td>0.868746</td>\n",
       "      <td>0.0</td>\n",
       "      <td>0.00</td>\n",
       "      <td>0.01</td>\n",
       "      <td>0.93</td>\n",
       "      <td>3.52</td>\n",
       "    </tr>\n",
       "    <tr>\n",
       "      <th>Rainfall(mm)</th>\n",
       "      <td>8760.0</td>\n",
       "      <td>0.148687</td>\n",
       "      <td>1.128193</td>\n",
       "      <td>0.0</td>\n",
       "      <td>0.00</td>\n",
       "      <td>0.00</td>\n",
       "      <td>0.00</td>\n",
       "      <td>35.00</td>\n",
       "    </tr>\n",
       "    <tr>\n",
       "      <th>Snowfall (cm)</th>\n",
       "      <td>8760.0</td>\n",
       "      <td>0.075068</td>\n",
       "      <td>0.436746</td>\n",
       "      <td>0.0</td>\n",
       "      <td>0.00</td>\n",
       "      <td>0.00</td>\n",
       "      <td>0.00</td>\n",
       "      <td>8.80</td>\n",
       "    </tr>\n",
       "  </tbody>\n",
       "</table>\n",
       "</div>"
      ],
      "text/plain": [
       "                            count         mean         std   min     25%  \\\n",
       "Rented Bike Count          8760.0   704.602055  644.997468   0.0  191.00   \n",
       "Hour                       8760.0    11.500000    6.922582   0.0    5.75   \n",
       "Temperature(°C)            8760.0    12.882922   11.944825 -17.8    3.50   \n",
       "Humidity(%)                8760.0    58.226256   20.362413   0.0   42.00   \n",
       "Wind speed (m/s)           8760.0     1.724909    1.036300   0.0    0.90   \n",
       "Visibility (10m)           8760.0  1436.825799  608.298712  27.0  940.00   \n",
       "Dew point temperature(°C)  8760.0     4.073813   13.060369 -30.6   -4.70   \n",
       "Solar Radiation (MJ/m2)    8760.0     0.569111    0.868746   0.0    0.00   \n",
       "Rainfall(mm)               8760.0     0.148687    1.128193   0.0    0.00   \n",
       "Snowfall (cm)              8760.0     0.075068    0.436746   0.0    0.00   \n",
       "\n",
       "                               50%      75%      max  \n",
       "Rented Bike Count           504.50  1065.25  3556.00  \n",
       "Hour                         11.50    17.25    23.00  \n",
       "Temperature(°C)              13.70    22.50    39.40  \n",
       "Humidity(%)                  57.00    74.00    98.00  \n",
       "Wind speed (m/s)              1.50     2.30     7.40  \n",
       "Visibility (10m)           1698.00  2000.00  2000.00  \n",
       "Dew point temperature(°C)     5.10    14.80    27.20  \n",
       "Solar Radiation (MJ/m2)       0.01     0.93     3.52  \n",
       "Rainfall(mm)                  0.00     0.00    35.00  \n",
       "Snowfall (cm)                 0.00     0.00     8.80  "
      ]
     },
     "execution_count": 266,
     "metadata": {},
     "output_type": "execute_result"
    }
   ],
   "source": [
    "# Statistical info.\n",
    "df.describe().T  "
   ]
  },
  {
   "cell_type": "markdown",
   "id": "d4f0a6a4",
   "metadata": {},
   "source": [
    "The ranges of values in the numerical columns seem reasonable too, so we may not have to do much data cleaning. The “Wind speed”,”Dew point temperature(°C)”, “Solar Radiation”, “Rainfall” and “Snowfall” column seems to be significantly skewed however, as the median (50 percentile) is much lower than the maximum value."
   ]
  },
  {
   "cell_type": "code",
   "execution_count": 267,
   "id": "746d5169",
   "metadata": {},
   "outputs": [
    {
     "data": {
      "text/html": [
       "<div>\n",
       "<style scoped>\n",
       "    .dataframe tbody tr th:only-of-type {\n",
       "        vertical-align: middle;\n",
       "    }\n",
       "\n",
       "    .dataframe tbody tr th {\n",
       "        vertical-align: top;\n",
       "    }\n",
       "\n",
       "    .dataframe thead th {\n",
       "        text-align: right;\n",
       "    }\n",
       "</style>\n",
       "<table border=\"1\" class=\"dataframe\">\n",
       "  <thead>\n",
       "    <tr style=\"text-align: right;\">\n",
       "      <th></th>\n",
       "      <th>Functioning Day</th>\n",
       "      <th>Rented Bike Count</th>\n",
       "    </tr>\n",
       "  </thead>\n",
       "  <tbody>\n",
       "    <tr>\n",
       "      <th>0</th>\n",
       "      <td>Yes</td>\n",
       "      <td>6172314</td>\n",
       "    </tr>\n",
       "    <tr>\n",
       "      <th>1</th>\n",
       "      <td>No</td>\n",
       "      <td>0</td>\n",
       "    </tr>\n",
       "  </tbody>\n",
       "</table>\n",
       "</div>"
      ],
      "text/plain": [
       "  Functioning Day  Rented Bike Count\n",
       "0             Yes            6172314\n",
       "1              No                  0"
      ]
     },
     "execution_count": 267,
     "metadata": {},
     "output_type": "execute_result"
    }
   ],
   "source": [
    "# Grouping by functioning day and calculating the total Rented Bike Count\n",
    "df.groupby('Functioning Day').sum()['Rented Bike Count'].sort_values(ascending = False).reset_index()"
   ]
  },
  {
   "cell_type": "markdown",
   "id": "bca4b892",
   "metadata": {},
   "source": [
    "As per diagnosis data found that rental bike only given on Functioning Day, so removing Non-Functioning Days and then remove Functioning Day Column also"
   ]
  },
  {
   "cell_type": "code",
   "execution_count": 268,
   "id": "b100b1a8",
   "metadata": {},
   "outputs": [],
   "source": [
    "#Removing data of non functional days (non rented days)\n",
    "df=df.drop(df[df['Functioning Day'] == 'No'].index)"
   ]
  },
  {
   "cell_type": "code",
   "execution_count": 269,
   "id": "f8bc5087",
   "metadata": {},
   "outputs": [],
   "source": [
    "#Due to not unsefull in Functioning Day Column ,remove Functioning Day Column\n",
    "df=df.drop(['Functioning Day'], axis = 1)"
   ]
  },
  {
   "cell_type": "code",
   "execution_count": 270,
   "id": "f7bb7698",
   "metadata": {},
   "outputs": [
    {
     "name": "stdout",
     "output_type": "stream",
     "text": [
      "Filtered Dataframe with only rented bike days : (8465, 13) \n",
      "\n"
     ]
    }
   ],
   "source": [
    "#Checking DataFrame Shape After Removing Non Functional Day Rows And Functional Day Column\n",
    "print(\"Filtered Dataframe with only rented bike days :\",df.shape,\"\\n\")"
   ]
  },
  {
   "cell_type": "code",
   "execution_count": 271,
   "id": "797b0f17",
   "metadata": {},
   "outputs": [
    {
     "data": {
      "text/html": [
       "<div>\n",
       "<style scoped>\n",
       "    .dataframe tbody tr th:only-of-type {\n",
       "        vertical-align: middle;\n",
       "    }\n",
       "\n",
       "    .dataframe tbody tr th {\n",
       "        vertical-align: top;\n",
       "    }\n",
       "\n",
       "    .dataframe thead th {\n",
       "        text-align: right;\n",
       "    }\n",
       "</style>\n",
       "<table border=\"1\" class=\"dataframe\">\n",
       "  <thead>\n",
       "    <tr style=\"text-align: right;\">\n",
       "      <th></th>\n",
       "      <th>Holiday</th>\n",
       "      <th>Rented Bike Count</th>\n",
       "    </tr>\n",
       "  </thead>\n",
       "  <tbody>\n",
       "    <tr>\n",
       "      <th>0</th>\n",
       "      <td>No Holiday</td>\n",
       "      <td>5956419</td>\n",
       "    </tr>\n",
       "    <tr>\n",
       "      <th>1</th>\n",
       "      <td>Holiday</td>\n",
       "      <td>215895</td>\n",
       "    </tr>\n",
       "  </tbody>\n",
       "</table>\n",
       "</div>"
      ],
      "text/plain": [
       "      Holiday  Rented Bike Count\n",
       "0  No Holiday            5956419\n",
       "1     Holiday             215895"
      ]
     },
     "execution_count": 271,
     "metadata": {},
     "output_type": "execute_result"
    }
   ],
   "source": [
    "# Grouping by functioning day and calculating the total Rented Bike Count\n",
    "df.groupby('Holiday').sum()['Rented Bike Count'].sort_values(ascending = False).reset_index()"
   ]
  },
  {
   "cell_type": "markdown",
   "id": "ce7a0139",
   "metadata": {},
   "source": [
    "Here we can wee that there is Noticeable bike count on holiday and no holiday"
   ]
  },
  {
   "cell_type": "markdown",
   "id": "7cfac0eb",
   "metadata": {},
   "source": [
    "Creating three new columns month and day and year extracting from the date column"
   ]
  },
  {
   "cell_type": "code",
   "execution_count": 272,
   "id": "8f179b2d",
   "metadata": {},
   "outputs": [],
   "source": [
    " #Convert the 'Date' column to datetime\n",
    "df['Date'] = pd.to_datetime(df['Date'])\n",
    "\n",
    "# Create 'Day' and 'Month' columns\n",
    "df['Day'] = df['Date'].dt.day\n",
    "df['Month'] = df['Date'].dt.month\n",
    "df['Year']=df['Date'].dt.year\n",
    "# drop the Date column after extracting necessory information\n",
    "df.drop(columns=['Date'],inplace=True)"
   ]
  },
  {
   "cell_type": "code",
   "execution_count": 273,
   "id": "cdd9be82",
   "metadata": {},
   "outputs": [
    {
     "data": {
      "text/plain": [
       "Index(['Rented Bike Count', 'Hour', 'Temperature(°C)', 'Humidity(%)',\n",
       "       'Wind speed (m/s)', 'Visibility (10m)', 'Dew point temperature(°C)',\n",
       "       'Solar Radiation (MJ/m2)', 'Rainfall(mm)', 'Snowfall (cm)', 'Seasons',\n",
       "       'Holiday', 'Day', 'Month', 'Year'],\n",
       "      dtype='object')"
      ]
     },
     "execution_count": 273,
     "metadata": {},
     "output_type": "execute_result"
    }
   ],
   "source": [
    "df.columns"
   ]
  },
  {
   "cell_type": "code",
   "execution_count": 274,
   "id": "ba198183",
   "metadata": {},
   "outputs": [],
   "source": [
    "df.rename({\"temperature(°C)\":\"Temp\",\"Humidity(%)\":\"Humidity\",\"Wind speed (m/s)\":\"Windspeed\",\n",
    "           \"Solar Radiation (MJ/m2)\":\"Solar_Radiation\", \"Rainfall(mm)\":\"Rainfall\",\"Snowfall (cm)\":\"Snowfall\",\n",
    "           \"Visibility (10m)\":\"Visibility\",\"Rented Bike Count\":\"Rented_bike_count\",\"Dew point temperature(°C)\":\"dew_point_temerature\"},axis=1,inplace=True)"
   ]
  },
  {
   "cell_type": "code",
   "execution_count": 275,
   "id": "056f61de",
   "metadata": {},
   "outputs": [
    {
     "data": {
      "text/plain": [
       "Index(['Rented_bike_count', 'Hour', 'Temperature(°C)', 'Humidity', 'Windspeed',\n",
       "       'Visibility', 'dew_point_temerature', 'Solar_Radiation', 'Rainfall',\n",
       "       'Snowfall', 'Seasons', 'Holiday', 'Day', 'Month', 'Year'],\n",
       "      dtype='object')"
      ]
     },
     "execution_count": 275,
     "metadata": {},
     "output_type": "execute_result"
    }
   ],
   "source": [
    "df.columns"
   ]
  },
  {
   "cell_type": "code",
   "execution_count": 276,
   "id": "feb7b943",
   "metadata": {},
   "outputs": [
    {
     "data": {
      "text/plain": [
       "<Axes: >"
      ]
     },
     "execution_count": 276,
     "metadata": {},
     "output_type": "execute_result"
    },
    {
     "data": {
      "image/png": "[encoded data removed]",
      "text/plain": [
       "<Figure size 1200x1200 with 2 Axes>"
      ]
     },
     "metadata": {},
     "output_type": "display_data"
    }
   ],
   "source": [
    "#.corr() use to find correlation with data\n",
    "data_corr= df.corr()       \n",
    "plt.figure(figsize=(12,12))\n",
    "sns.heatmap(data_corr, cmap='coolwarm', linewidths=0.1, annot=True, linecolor='white')"
   ]
  },
  {
   "cell_type": "code",
   "execution_count": 277,
   "id": "0503ff54",
   "metadata": {},
   "outputs": [
    {
     "data": {
      "text/html": [
       "<div>\n",
       "<style scoped>\n",
       "    .dataframe tbody tr th:only-of-type {\n",
       "        vertical-align: middle;\n",
       "    }\n",
       "\n",
       "    .dataframe tbody tr th {\n",
       "        vertical-align: top;\n",
       "    }\n",
       "\n",
       "    .dataframe thead th {\n",
       "        text-align: right;\n",
       "    }\n",
       "</style>\n",
       "<table border=\"1\" class=\"dataframe\">\n",
       "  <thead>\n",
       "    <tr style=\"text-align: right;\">\n",
       "      <th></th>\n",
       "      <th>Rented_bike_count</th>\n",
       "      <th>Hour</th>\n",
       "      <th>Temperature(°C)</th>\n",
       "      <th>Humidity</th>\n",
       "      <th>Windspeed</th>\n",
       "      <th>Visibility</th>\n",
       "      <th>dew_point_temerature</th>\n",
       "      <th>Solar_Radiation</th>\n",
       "      <th>Rainfall</th>\n",
       "      <th>Snowfall</th>\n",
       "      <th>Seasons</th>\n",
       "      <th>Holiday</th>\n",
       "      <th>Day</th>\n",
       "      <th>Month</th>\n",
       "      <th>Year</th>\n",
       "    </tr>\n",
       "  </thead>\n",
       "  <tbody>\n",
       "    <tr>\n",
       "      <th>0</th>\n",
       "      <td>254</td>\n",
       "      <td>0</td>\n",
       "      <td>-5.2</td>\n",
       "      <td>37</td>\n",
       "      <td>2.2</td>\n",
       "      <td>2000</td>\n",
       "      <td>-17.6</td>\n",
       "      <td>0.0</td>\n",
       "      <td>0.0</td>\n",
       "      <td>0.0</td>\n",
       "      <td>Winter</td>\n",
       "      <td>No Holiday</td>\n",
       "      <td>1</td>\n",
       "      <td>12</td>\n",
       "      <td>2017</td>\n",
       "    </tr>\n",
       "    <tr>\n",
       "      <th>1</th>\n",
       "      <td>204</td>\n",
       "      <td>1</td>\n",
       "      <td>-5.5</td>\n",
       "      <td>38</td>\n",
       "      <td>0.8</td>\n",
       "      <td>2000</td>\n",
       "      <td>-17.6</td>\n",
       "      <td>0.0</td>\n",
       "      <td>0.0</td>\n",
       "      <td>0.0</td>\n",
       "      <td>Winter</td>\n",
       "      <td>No Holiday</td>\n",
       "      <td>1</td>\n",
       "      <td>12</td>\n",
       "      <td>2017</td>\n",
       "    </tr>\n",
       "    <tr>\n",
       "      <th>2</th>\n",
       "      <td>173</td>\n",
       "      <td>2</td>\n",
       "      <td>-6.0</td>\n",
       "      <td>39</td>\n",
       "      <td>1.0</td>\n",
       "      <td>2000</td>\n",
       "      <td>-17.7</td>\n",
       "      <td>0.0</td>\n",
       "      <td>0.0</td>\n",
       "      <td>0.0</td>\n",
       "      <td>Winter</td>\n",
       "      <td>No Holiday</td>\n",
       "      <td>1</td>\n",
       "      <td>12</td>\n",
       "      <td>2017</td>\n",
       "    </tr>\n",
       "    <tr>\n",
       "      <th>3</th>\n",
       "      <td>107</td>\n",
       "      <td>3</td>\n",
       "      <td>-6.2</td>\n",
       "      <td>40</td>\n",
       "      <td>0.9</td>\n",
       "      <td>2000</td>\n",
       "      <td>-17.6</td>\n",
       "      <td>0.0</td>\n",
       "      <td>0.0</td>\n",
       "      <td>0.0</td>\n",
       "      <td>Winter</td>\n",
       "      <td>No Holiday</td>\n",
       "      <td>1</td>\n",
       "      <td>12</td>\n",
       "      <td>2017</td>\n",
       "    </tr>\n",
       "    <tr>\n",
       "      <th>4</th>\n",
       "      <td>78</td>\n",
       "      <td>4</td>\n",
       "      <td>-6.0</td>\n",
       "      <td>36</td>\n",
       "      <td>2.3</td>\n",
       "      <td>2000</td>\n",
       "      <td>-18.6</td>\n",
       "      <td>0.0</td>\n",
       "      <td>0.0</td>\n",
       "      <td>0.0</td>\n",
       "      <td>Winter</td>\n",
       "      <td>No Holiday</td>\n",
       "      <td>1</td>\n",
       "      <td>12</td>\n",
       "      <td>2017</td>\n",
       "    </tr>\n",
       "  </tbody>\n",
       "</table>\n",
       "</div>"
      ],
      "text/plain": [
       "   Rented_bike_count  Hour  Temperature(°C)  Humidity  Windspeed  Visibility  \\\n",
       "0                254     0             -5.2        37        2.2        2000   \n",
       "1                204     1             -5.5        38        0.8        2000   \n",
       "2                173     2             -6.0        39        1.0        2000   \n",
       "3                107     3             -6.2        40        0.9        2000   \n",
       "4                 78     4             -6.0        36        2.3        2000   \n",
       "\n",
       "   dew_point_temerature  Solar_Radiation  Rainfall  Snowfall Seasons  \\\n",
       "0                 -17.6              0.0       0.0       0.0  Winter   \n",
       "1                 -17.6              0.0       0.0       0.0  Winter   \n",
       "2                 -17.7              0.0       0.0       0.0  Winter   \n",
       "3                 -17.6              0.0       0.0       0.0  Winter   \n",
       "4                 -18.6              0.0       0.0       0.0  Winter   \n",
       "\n",
       "      Holiday  Day  Month  Year  \n",
       "0  No Holiday    1     12  2017  \n",
       "1  No Holiday    1     12  2017  \n",
       "2  No Holiday    1     12  2017  \n",
       "3  No Holiday    1     12  2017  \n",
       "4  No Holiday    1     12  2017  "
      ]
     },
     "execution_count": 277,
     "metadata": {},
     "output_type": "execute_result"
    }
   ],
   "source": [
    "df.head()"
   ]
  },
  {
   "cell_type": "code",
   "execution_count": 278,
   "id": "ab426200",
   "metadata": {},
   "outputs": [
    {
     "data": {
      "text/plain": [
       "(8465, 15)"
      ]
     },
     "execution_count": 278,
     "metadata": {},
     "output_type": "execute_result"
    }
   ],
   "source": [
    "df.shape"
   ]
  },
  {
   "cell_type": "code",
   "execution_count": 279,
   "id": "2b7f8cf1",
   "metadata": {},
   "outputs": [
    {
     "data": {
      "text/plain": [
       "Rented_bike_count       0\n",
       "Hour                    0\n",
       "Temperature(°C)         0\n",
       "Humidity                0\n",
       "Windspeed               0\n",
       "Visibility              0\n",
       "dew_point_temerature    0\n",
       "Solar_Radiation         0\n",
       "Rainfall                0\n",
       "Snowfall                0\n",
       "Seasons                 0\n",
       "Holiday                 0\n",
       "Day                     0\n",
       "Month                   0\n",
       "Year                    0\n",
       "dtype: int64"
      ]
     },
     "execution_count": 279,
     "metadata": {},
     "output_type": "execute_result"
    }
   ],
   "source": [
    "df.isnull().sum()"
   ]
  },
  {
   "cell_type": "markdown",
   "id": "00c192c2",
   "metadata": {},
   "source": [
    "No null vlaues in the data"
   ]
  },
  {
   "cell_type": "markdown",
   "id": "f6880c66",
   "metadata": {},
   "source": [
    "### 2.4BINS for target "
   ]
  },
  {
   "attachments": {},
   "cell_type": "markdown",
   "id": "64e3c512",
   "metadata": {},
   "source": [
    "Creating bins for the target variablem rented bike count, 5 categories\n",
    "- [-1,250,500,1000,2000,4000] -> ['VERY_LOW_DEMAND','LOW_DEMAND','MODERATE_DEMAND','HIGH_DEMAND','VERY_HIGH_DEMAND']"
   ]
  },
  {
   "cell_type": "code",
   "execution_count": 280,
   "id": "877425b2",
   "metadata": {},
   "outputs": [],
   "source": [
    "bins_count = [-1,250,500,1000,2000,4000]"
   ]
  },
  {
   "cell_type": "code",
   "execution_count": 281,
   "id": "d94341aa",
   "metadata": {},
   "outputs": [],
   "source": [
    "df['Binned_Rented_Bike_Count'] = pd.cut(df['Rented_bike_count'], bins_count,labels=['VERY_LOW_DEMAND','LOW_DEMAND','MODERATE_DEMAND','HIGH_DEMAND','VERY_HIGH_DEMAND'])"
   ]
  },
  {
   "cell_type": "code",
   "execution_count": 282,
   "id": "233d063f",
   "metadata": {},
   "outputs": [
    {
     "data": {
      "text/plain": [
       "<Axes: >"
      ]
     },
     "execution_count": 282,
     "metadata": {},
     "output_type": "execute_result"
    },
    {
     "data": {
      "image/png": "[encoded data removed]",
      "text/plain": [
       "<Figure size 640x480 with 1 Axes>"
      ]
     },
     "metadata": {},
     "output_type": "display_data"
    }
   ],
   "source": [
    "category_counts = df['Binned_Rented_Bike_Count'].value_counts()\n",
    "category_counts.plot(kind='bar')"
   ]
  },
  {
   "cell_type": "markdown",
   "id": "f37acd52",
   "metadata": {},
   "source": [
    "Here we can see the imbalances in data, so proper balancing techniques are required.\n"
   ]
  },
  {
   "cell_type": "code",
   "execution_count": 283,
   "id": "5186243b",
   "metadata": {},
   "outputs": [
    {
     "data": {
      "text/plain": [
       "VERY_LOW_DEMAND     2490\n",
       "MODERATE_DEMAND     1979\n",
       "HIGH_DEMAND         1938\n",
       "LOW_DEMAND          1578\n",
       "VERY_HIGH_DEMAND     480\n",
       "Name: Binned_Rented_Bike_Count, dtype: int64"
      ]
     },
     "execution_count": 283,
     "metadata": {},
     "output_type": "execute_result"
    }
   ],
   "source": [
    "df['Binned_Rented_Bike_Count'].value_counts()"
   ]
  },
  {
   "cell_type": "code",
   "execution_count": 284,
   "id": "9630aeb8",
   "metadata": {},
   "outputs": [
    {
     "data": {
      "text/plain": [
       "<Figure size 800x600 with 0 Axes>"
      ]
     },
     "metadata": {},
     "output_type": "display_data"
    },
    {
     "data": {
      "image/png": "[encoded data removed]",
      "text/plain": [
       "<Figure size 640x480 with 1 Axes>"
      ]
     },
     "metadata": {},
     "output_type": "display_data"
    },
    {
     "name": "stdout",
     "output_type": "stream",
     "text": [
      "Mean Values for Each Bin:\n",
      "Binned_Rented_Bike_Count\n",
      "VERY_LOW_DEMAND      130.0\n",
      "LOW_DEMAND           355.0\n",
      "MODERATE_DEMAND      741.0\n",
      "HIGH_DEMAND         1390.0\n",
      "VERY_HIGH_DEMAND    2351.0\n",
      "Name: Rented_bike_count, dtype: float64\n"
     ]
    }
   ],
   "source": [
    "mean_values = round(df.groupby('Binned_Rented_Bike_Count')['Rented_bike_count'].mean(),0)\n",
    "\n",
    "# Create a box plot\n",
    "plt.figure(figsize=(8, 6))\n",
    "df.boxplot(column='Rented_bike_count', by='Binned_Rented_Bike_Count', vert=False)\n",
    "plt.title('Box Plot of Bike Counts by Bins')\n",
    "plt.xlabel('Bike Count')\n",
    "plt.ylabel('Bins')\n",
    "plt.show()\n",
    "\n",
    "# Print the mean values for each bin\n",
    "print(\"Mean Values for Each Bin:\")\n",
    "print(mean_values)"
   ]
  },
  {
   "cell_type": "markdown",
   "id": "2b8e7147",
   "metadata": {},
   "source": [
    "### 2.4 Design of evaluation metrics"
   ]
  },
  {
   "cell_type": "code",
   "execution_count": 285,
   "id": "45548dd2",
   "metadata": {},
   "outputs": [],
   "source": [
    "\n",
    "Price_per_bike_per_hour=1000,\n",
    "Cost_per_bike_per_hour=500,\n",
    "Price=1000\n",
    "Cost=500\n",
    "Profit=Price-Cost # profit earned per bike per hour"
   ]
  },
  {
   "cell_type": "code",
   "execution_count": 286,
   "id": "7d72c74c",
   "metadata": {},
   "outputs": [],
   "source": [
    "evaluation_df=pd.DataFrame()\n",
    "evaluation_df['AVG_bike_count_per_hour']=mean_values"
   ]
  },
  {
   "cell_type": "code",
   "execution_count": 287,
   "id": "ae0a5854",
   "metadata": {},
   "outputs": [],
   "source": [
    "columns_predicted = ['predicted_130', 'predicted_355', 'predicted_741', 'predicted_1390', 'predicted_2351']\n",
    "\n",
    "# Initialize specified columns with NaN values\n",
    "for column in columns_predicted:\n",
    "    evaluation_df[column] = [np.nan] * len(evaluation_df)"
   ]
  },
  {
   "cell_type": "code",
   "execution_count": 288,
   "id": "56f0e9d1",
   "metadata": {},
   "outputs": [
    {
     "data": {
      "text/plain": [
       "(5, 6)"
      ]
     },
     "execution_count": 288,
     "metadata": {},
     "output_type": "execute_result"
    }
   ],
   "source": [
    "evaluation_df.shape"
   ]
  },
  {
   "cell_type": "code",
   "execution_count": 289,
   "id": "32fc1e08",
   "metadata": {},
   "outputs": [],
   "source": [
    "df1=evaluation_df"
   ]
  },
  {
   "cell_type": "code",
   "execution_count": 290,
   "id": "0d88777e",
   "metadata": {},
   "outputs": [
    {
     "data": {
      "text/html": [
       "<div>\n",
       "<style scoped>\n",
       "    .dataframe tbody tr th:only-of-type {\n",
       "        vertical-align: middle;\n",
       "    }\n",
       "\n",
       "    .dataframe tbody tr th {\n",
       "        vertical-align: top;\n",
       "    }\n",
       "\n",
       "    .dataframe thead th {\n",
       "        text-align: right;\n",
       "    }\n",
       "</style>\n",
       "<table border=\"1\" class=\"dataframe\">\n",
       "  <thead>\n",
       "    <tr style=\"text-align: right;\">\n",
       "      <th></th>\n",
       "      <th>AVG_bike_count_per_hour</th>\n",
       "      <th>predicted_130</th>\n",
       "      <th>predicted_355</th>\n",
       "      <th>predicted_741</th>\n",
       "      <th>predicted_1390</th>\n",
       "      <th>predicted_2351</th>\n",
       "    </tr>\n",
       "    <tr>\n",
       "      <th>Binned_Rented_Bike_Count</th>\n",
       "      <th></th>\n",
       "      <th></th>\n",
       "      <th></th>\n",
       "      <th></th>\n",
       "      <th></th>\n",
       "      <th></th>\n",
       "    </tr>\n",
       "  </thead>\n",
       "  <tbody>\n",
       "    <tr>\n",
       "      <th>VERY_LOW_DEMAND</th>\n",
       "      <td>130.0</td>\n",
       "      <td>65000.0</td>\n",
       "      <td>-47500.0</td>\n",
       "      <td>-240500.0</td>\n",
       "      <td>-565000.0</td>\n",
       "      <td>-1045500.0</td>\n",
       "    </tr>\n",
       "    <tr>\n",
       "      <th>LOW_DEMAND</th>\n",
       "      <td>355.0</td>\n",
       "      <td>-47500.0</td>\n",
       "      <td>177500.0</td>\n",
       "      <td>-15500.0</td>\n",
       "      <td>-340000.0</td>\n",
       "      <td>-820500.0</td>\n",
       "    </tr>\n",
       "    <tr>\n",
       "      <th>MODERATE_DEMAND</th>\n",
       "      <td>741.0</td>\n",
       "      <td>-240500.0</td>\n",
       "      <td>-15500.0</td>\n",
       "      <td>370500.0</td>\n",
       "      <td>46000.0</td>\n",
       "      <td>-434500.0</td>\n",
       "    </tr>\n",
       "    <tr>\n",
       "      <th>HIGH_DEMAND</th>\n",
       "      <td>1390.0</td>\n",
       "      <td>-565000.0</td>\n",
       "      <td>-340000.0</td>\n",
       "      <td>46000.0</td>\n",
       "      <td>695000.0</td>\n",
       "      <td>214500.0</td>\n",
       "    </tr>\n",
       "    <tr>\n",
       "      <th>VERY_HIGH_DEMAND</th>\n",
       "      <td>2351.0</td>\n",
       "      <td>-1045500.0</td>\n",
       "      <td>-820500.0</td>\n",
       "      <td>-434500.0</td>\n",
       "      <td>214500.0</td>\n",
       "      <td>1175500.0</td>\n",
       "    </tr>\n",
       "  </tbody>\n",
       "</table>\n",
       "</div>"
      ],
      "text/plain": [
       "                          AVG_bike_count_per_hour  predicted_130  \\\n",
       "Binned_Rented_Bike_Count                                           \n",
       "VERY_LOW_DEMAND                             130.0        65000.0   \n",
       "LOW_DEMAND                                  355.0       -47500.0   \n",
       "MODERATE_DEMAND                             741.0      -240500.0   \n",
       "HIGH_DEMAND                                1390.0      -565000.0   \n",
       "VERY_HIGH_DEMAND                           2351.0     -1045500.0   \n",
       "\n",
       "                          predicted_355  predicted_741  predicted_1390  \\\n",
       "Binned_Rented_Bike_Count                                                 \n",
       "VERY_LOW_DEMAND                -47500.0      -240500.0       -565000.0   \n",
       "LOW_DEMAND                     177500.0       -15500.0       -340000.0   \n",
       "MODERATE_DEMAND                -15500.0       370500.0         46000.0   \n",
       "HIGH_DEMAND                   -340000.0        46000.0        695000.0   \n",
       "VERY_HIGH_DEMAND              -820500.0      -434500.0        214500.0   \n",
       "\n",
       "                          predicted_2351  \n",
       "Binned_Rented_Bike_Count                  \n",
       "VERY_LOW_DEMAND               -1045500.0  \n",
       "LOW_DEMAND                     -820500.0  \n",
       "MODERATE_DEMAND                -434500.0  \n",
       "HIGH_DEMAND                     214500.0  \n",
       "VERY_HIGH_DEMAND               1175500.0  "
      ]
     },
     "execution_count": 290,
     "metadata": {},
     "output_type": "execute_result"
    }
   ],
   "source": [
    "for i in range(0,5):\n",
    "    for j in range(1,6):\n",
    "        if i+1 == j:\n",
    "            df1.iat[i, j] = df1.iloc[i, 0] * Profit\n",
    "        elif j > i:\n",
    "            df1.iat[i, j] = (df1.iloc[i, 0] * Profit) - (df1.iloc[j-1, 0] - df1.iloc[i, 0]) * Cost\n",
    "        else:\n",
    "            df1.iat[i, j] = (df1.iloc[j-1, 0] * Profit) - (df1.iloc[i, 0] - df1.iloc[j-1, 0]) * Profit\n",
    "\n",
    "# Print the updated DataFrame df\n",
    "df1"
   ]
  },
  {
   "cell_type": "code",
   "execution_count": 291,
   "id": "25b7dfdd",
   "metadata": {},
   "outputs": [],
   "source": [
    "eval_matrix=df1.values[:, 1:]"
   ]
  },
  {
   "cell_type": "code",
   "execution_count": 292,
   "id": "86822ec4",
   "metadata": {},
   "outputs": [
    {
     "data": {
      "text/plain": [
       "array([[   65000.,   -47500.,  -240500.,  -565000., -1045500.],\n",
       "       [  -47500.,   177500.,   -15500.,  -340000.,  -820500.],\n",
       "       [ -240500.,   -15500.,   370500.,    46000.,  -434500.],\n",
       "       [ -565000.,  -340000.,    46000.,   695000.,   214500.],\n",
       "       [-1045500.,  -820500.,  -434500.,   214500.,  1175500.]])"
      ]
     },
     "execution_count": 292,
     "metadata": {},
     "output_type": "execute_result"
    }
   ],
   "source": [
    "eval_matrix"
   ]
  },
  {
   "cell_type": "markdown",
   "id": "52eb9b3f",
   "metadata": {},
   "source": [
    "### 2.5 Creating dummies for the Categorical features"
   ]
  },
  {
   "cell_type": "code",
   "execution_count": 293,
   "id": "3eafa7a9",
   "metadata": {},
   "outputs": [
    {
     "data": {
      "text/html": [
       "<div>\n",
       "<style scoped>\n",
       "    .dataframe tbody tr th:only-of-type {\n",
       "        vertical-align: middle;\n",
       "    }\n",
       "\n",
       "    .dataframe tbody tr th {\n",
       "        vertical-align: top;\n",
       "    }\n",
       "\n",
       "    .dataframe thead th {\n",
       "        text-align: right;\n",
       "    }\n",
       "</style>\n",
       "<table border=\"1\" class=\"dataframe\">\n",
       "  <thead>\n",
       "    <tr style=\"text-align: right;\">\n",
       "      <th></th>\n",
       "      <th>Variable_name</th>\n",
       "      <th>Data_type</th>\n",
       "      <th>Unique</th>\n",
       "      <th>No of Unique_vales</th>\n",
       "    </tr>\n",
       "  </thead>\n",
       "  <tbody>\n",
       "    <tr>\n",
       "      <th>10</th>\n",
       "      <td>Seasons</td>\n",
       "      <td>object</td>\n",
       "      <td>[Winter, Spring, Summer, Autumn]</td>\n",
       "      <td>4.0</td>\n",
       "    </tr>\n",
       "    <tr>\n",
       "      <th>11</th>\n",
       "      <td>Holiday</td>\n",
       "      <td>object</td>\n",
       "      <td>[No Holiday, Holiday]</td>\n",
       "      <td>2.0</td>\n",
       "    </tr>\n",
       "  </tbody>\n",
       "</table>\n",
       "</div>"
      ],
      "text/plain": [
       "   Variable_name Data_type                            Unique  \\\n",
       "10       Seasons    object  [Winter, Spring, Summer, Autumn]   \n",
       "11       Holiday    object             [No Holiday, Holiday]   \n",
       "\n",
       "    No of Unique_vales  \n",
       "10                 4.0  \n",
       "11                 2.0  "
      ]
     },
     "execution_count": 293,
     "metadata": {},
     "output_type": "execute_result"
    }
   ],
   "source": [
    "var_unique=pd.DataFrame()\n",
    "columns=['Variable_name','Data_type','Unique']\n",
    "var_unique = pd.DataFrame(columns=columns)\n",
    "for column_name in df.columns:\n",
    "    data_type = df[column_name].dtype\n",
    "    unique_values = df[column_name].unique()\n",
    "    unique_count = df[column_name].nunique()\n",
    "    var_unique = var_unique.append({'Variable_name': column_name, 'Data_type': data_type, 'Unique': unique_values,'No of Unique_vales': unique_count}, ignore_index=True)\n",
    "var_unique[var_unique['Data_type']=='object']"
   ]
  },
  {
   "cell_type": "code",
   "execution_count": 294,
   "id": "39d70d01",
   "metadata": {},
   "outputs": [],
   "source": [
    "df = pd.get_dummies(\n",
    "    df, \n",
    "    prefix_sep='_', \n",
    "    dummy_na=False, \n",
    "    drop_first=True, \n",
    "    columns=['Seasons','Holiday'], \n",
    "    dtype='int8'\n",
    ")"
   ]
  },
  {
   "cell_type": "code",
   "execution_count": 295,
   "id": "13efdd83",
   "metadata": {},
   "outputs": [
    {
     "data": {
      "text/plain": [
       "Rented_bike_count              int64\n",
       "Hour                           int64\n",
       "Temperature(°C)              float64\n",
       "Humidity                       int64\n",
       "Windspeed                    float64\n",
       "Visibility                     int64\n",
       "dew_point_temerature         float64\n",
       "Solar_Radiation              float64\n",
       "Rainfall                     float64\n",
       "Snowfall                     float64\n",
       "Day                            int64\n",
       "Month                          int64\n",
       "Year                           int64\n",
       "Binned_Rented_Bike_Count    category\n",
       "Seasons_Spring                  int8\n",
       "Seasons_Summer                  int8\n",
       "Seasons_Winter                  int8\n",
       "Holiday_No Holiday              int8\n",
       "dtype: object"
      ]
     },
     "execution_count": 295,
     "metadata": {},
     "output_type": "execute_result"
    }
   ],
   "source": [
    "df.dtypes"
   ]
  },
  {
   "cell_type": "markdown",
   "id": "22eff13a",
   "metadata": {},
   "source": [
    "##  3 Model Fitting"
   ]
  },
  {
   "cell_type": "code",
   "execution_count": 296,
   "id": "07cde102",
   "metadata": {},
   "outputs": [],
   "source": [
    "features = df.drop(['Binned_Rented_Bike_Count',], axis=1)"
   ]
  },
  {
   "cell_type": "code",
   "execution_count": 297,
   "id": "c0e6c870",
   "metadata": {},
   "outputs": [],
   "source": [
    "target=df['Binned_Rented_Bike_Count']"
   ]
  },
  {
   "cell_type": "markdown",
   "id": "509d410f",
   "metadata": {},
   "source": [
    "### 3.1 Test and train split"
   ]
  },
  {
   "cell_type": "code",
   "execution_count": 298,
   "id": "c66a866e",
   "metadata": {},
   "outputs": [],
   "source": [
    "X_train, X_test, y_train, y_test = train_test_split(features, target, test_size=0.3, random_state=42)"
   ]
  },
  {
   "cell_type": "markdown",
   "id": "48748265",
   "metadata": {},
   "source": [
    "Here we considered train and test split as 70 - 30, we have adequent number of instances so we choose 70 -30 split"
   ]
  },
  {
   "cell_type": "markdown",
   "id": "41ceed4e",
   "metadata": {},
   "source": [
    "### 3.2 Standardization of test and train data"
   ]
  },
  {
   "cell_type": "markdown",
   "id": "dd5082d6",
   "metadata": {},
   "source": [
    "Here we observed that there are different scales of features, like hours, day, dew, temperature etc. sp data should be scaled before performing the model fitting"
   ]
  },
  {
   "cell_type": "code",
   "execution_count": 299,
   "id": "b7851ec8",
   "metadata": {},
   "outputs": [],
   "source": [
    "scaler = StandardScaler()\n",
    "scaler.fit(X_train)\n",
    "X_train = scaler.transform(X_train)\n",
    "X_test = scaler.transform(X_test)"
   ]
  },
  {
   "cell_type": "markdown",
   "id": "1db34ffa",
   "metadata": {},
   "source": [
    "### 3.3 SVC model with out balancing data"
   ]
  },
  {
   "cell_type": "code",
   "execution_count": 300,
   "id": "45b8f267",
   "metadata": {},
   "outputs": [],
   "source": [
    "# SVC model with a linear kernel\n",
    "svc_linear = SVC(kernel='linear')# SVC_ model train\n",
    "svc_linear.fit(X_train, y_train)\n",
    "y_pred_linear = svc_linear.predict(X_test)# SVC_lineear  predictions\n"
   ]
  },
  {
   "cell_type": "code",
   "execution_count": 301,
   "id": "b6ffa577",
   "metadata": {},
   "outputs": [
    {
     "name": "stdout",
     "output_type": "stream",
     "text": [
      "Test - Accuracy : 0.9858267716535433\n",
      "Test - Confusion matrix : \n",
      " [[750   9   0   0   0]\n",
      " [ 11 463   1   0   0]\n",
      " [  0   1 586   4   0]\n",
      " [  0   0   2 583   3]\n",
      " [  0   0   0   5 122]]\n",
      "Test - classification report : \n",
      "                   precision    recall  f1-score   support\n",
      "\n",
      "     HIGH_DEMAND       0.98      0.99      0.99       588\n",
      "      LOW_DEMAND       0.98      0.97      0.98       475\n",
      " MODERATE_DEMAND       0.99      0.99      0.99       591\n",
      "VERY_HIGH_DEMAND       0.98      0.96      0.97       127\n",
      " VERY_LOW_DEMAND       0.99      0.99      0.99       759\n",
      "\n",
      "        accuracy                           0.99      2540\n",
      "       macro avg       0.98      0.98      0.98      2540\n",
      "    weighted avg       0.99      0.99      0.99      2540\n",
      "\n"
     ]
    }
   ],
   "source": [
    "print (\"Test - Accuracy :\", accuracy_score(y_test, svc_linear.predict\n",
    "(X_test)))\n",
    "class_labels = ['VERY_LOW_DEMAND','LOW_DEMAND','MODERATE_DEMAND','HIGH_DEMAND','VERY_HIGH_DEMAND']\n",
    "print (\"Test - Confusion matrix :\",'\\n',confusion_matrix(y_test, svc_linear.\n",
    "predict(X_test),labels=class_labels))\n",
    "print (\"Test - classification report :\",'\\n', classification_report\n",
    "(y_test, svc_linear.predict(X_test)))"
   ]
  },
  {
   "cell_type": "code",
   "execution_count": 302,
   "id": "d9632249",
   "metadata": {},
   "outputs": [],
   "source": [
    "model_matrix=confusion_matrix(y_test, svc_linear.predict(X_test),labels=class_labels)"
   ]
  },
  {
   "cell_type": "code",
   "execution_count": 303,
   "id": "807ef94a",
   "metadata": {},
   "outputs": [],
   "source": [
    "profit_matrix=model_matrix*eval_matrix"
   ]
  },
  {
   "cell_type": "code",
   "execution_count": 304,
   "id": "4339e70f",
   "metadata": {},
   "outputs": [
    {
     "data": {
      "text/plain": [
       "array([[ 4.87500e+07, -4.27500e+05, -0.00000e+00, -0.00000e+00,\n",
       "        -0.00000e+00],\n",
       "       [-5.22500e+05,  8.21825e+07, -1.55000e+04, -0.00000e+00,\n",
       "        -0.00000e+00],\n",
       "       [-0.00000e+00, -1.55000e+04,  2.17113e+08,  1.84000e+05,\n",
       "        -0.00000e+00],\n",
       "       [-0.00000e+00, -0.00000e+00,  9.20000e+04,  4.05185e+08,\n",
       "         6.43500e+05],\n",
       "       [-0.00000e+00, -0.00000e+00, -0.00000e+00,  1.07250e+06,\n",
       "         1.43411e+08]])"
      ]
     },
     "execution_count": 304,
     "metadata": {},
     "output_type": "execute_result"
    }
   ],
   "source": [
    "profit_matrix"
   ]
  },
  {
   "cell_type": "code",
   "execution_count": 305,
   "id": "60746d61",
   "metadata": {},
   "outputs": [],
   "source": [
    "Total_annual_profit=np.sum(profit_matrix)"
   ]
  },
  {
   "cell_type": "code",
   "execution_count": 306,
   "id": "16563171",
   "metadata": {},
   "outputs": [
    {
     "name": "stdout",
     "output_type": "stream",
     "text": [
      "897652500.0\n"
     ]
    }
   ],
   "source": [
    "print(Total_annual_profit)"
   ]
  },
  {
   "cell_type": "code",
   "execution_count": 307,
   "id": "89c6a3bb",
   "metadata": {},
   "outputs": [],
   "source": [
    "profit_usd=Total_annual_profit*0.007"
   ]
  },
  {
   "cell_type": "code",
   "execution_count": 308,
   "id": "0f6243b0",
   "metadata": {},
   "outputs": [
    {
     "data": {
      "text/plain": [
       "6283567.5"
      ]
     },
     "execution_count": 308,
     "metadata": {},
     "output_type": "execute_result"
    }
   ],
   "source": [
    "profit_usd"
   ]
  },
  {
   "cell_type": "markdown",
   "id": "5499f2bb",
   "metadata": {},
   "source": [
    "Total profit per annum for SVC with out balancing train data is $6245855 "
   ]
  },
  {
   "cell_type": "code",
   "execution_count": 309,
   "id": "6010f705",
   "metadata": {},
   "outputs": [
    {
     "data": {
      "image/png": "[encoded data removed]",
      "text/plain": [
       "<Figure size 800x900 with 1 Axes>"
      ]
     },
     "metadata": {},
     "output_type": "display_data"
    }
   ],
   "source": [
    "results = pd.DataFrame()\n",
    "results['actual'] = y_test\n",
    "results['predicted'] = svc_linear.predict(X_test)\n",
    "results.head()\n",
    "\n",
    "# display the confusion matrix\n",
    "cm = confusion_matrix(results['actual'], results['predicted'])\n",
    "\n",
    "fig, ax = plt.subplots(figsize=(8, 9))\n",
    "\n",
    "ConfusionMatrixDisplay.from_predictions(\n",
    "    results['actual'], results['predicted'], display_labels=svc_linear.classes_, ax=ax, colorbar=False, cmap=plt.cm.Blues\n",
    ")\n",
    "plt.show()"
   ]
  },
  {
   "cell_type": "markdown",
   "id": "81128fb7",
   "metadata": {},
   "source": [
    "### 3.1 Balancing data with SMOTE"
   ]
  },
  {
   "cell_type": "code",
   "execution_count": 310,
   "id": "e2e489b6",
   "metadata": {},
   "outputs": [],
   "source": [
    "\n",
    "smote = SMOTE(random_state=42)"
   ]
  },
  {
   "cell_type": "code",
   "execution_count": 311,
   "id": "4da35855",
   "metadata": {},
   "outputs": [],
   "source": [
    "del results\n",
    "def evaluate_classifier_1(desc, df, clf, X_test, y_test):\n",
    "    y_pred = clf.predict(X_test)\n",
    "    class_labels = ['VERY_LOW_DEMAND','LOW_DEMAND','MODERATE_DEMAND','HIGH_DEMAND','VERY_HIGH_DEMAND']\n",
    "    model_matrix=confusion_matrix(y_test, clf.predict(X_test),labels=class_labels)\n",
    "    profit_matrix=model_matrix*eval_matrix\n",
    "    Total_annual_profit=np.sum(profit_matrix)\n",
    "    df.loc[len(df.index)] = [desc,\n",
    "                             accuracy_score(y_test, clf.predict(X_test)),\n",
    "                             recall_score(y_test, clf.predict(X_test),average='weighted'),\n",
    "                             precision_score(y_test, clf.predict(X_test),average='weighted'),\n",
    "                             f1_score(y_test, clf.predict(X_test),average='weighted'),Total_annual_profit]\n",
    "\n",
    "results = pd.DataFrame(columns=['Description', 'Accuracy', 'Recall', 'Precision', 'f1-score','Total_annual_profit'])"
   ]
  },
  {
   "cell_type": "code",
   "execution_count": 312,
   "id": "ca9dacb1",
   "metadata": {},
   "outputs": [],
   "source": [
    "balancing_methods=[smote]\n",
    "names=[\"SMOTE\"]\n",
    "for method, name in zip(balancing_methods, names):\n",
    "    X_res, y_res = method.fit_resample(X_train, y_train)\n",
    "    \n",
    "    # SVC model with a linear kernel\n",
    "    svc_linear = SVC(kernel='linear')# SVC_ model train\n",
    "    svc_linear.fit(X_res, y_res)\n",
    "    evaluate_classifier_1(f\"SVC {name}\", results, svc_linear, X_test, y_test)\n",
    "    \n",
    "    knn_clf=KNeighborsClassifier()\n",
    "    knn_clf.fit(X_res,y_res)\n",
    "    evaluate_classifier_1(f\"KNN {name}\", results, knn_clf, X_test, y_test)\n",
    "    \n",
    "    # random forest model creation\n",
    "    Randomforest = RandomForestClassifier()\n",
    "    Randomforest.fit(X_res,y_res)\n",
    "    evaluate_classifier_1(f\"RandomForestClassifier {name}\", results, Randomforest, X_test, y_test)\n",
    "    \n",
    "    dtree=DecisionTreeClassifier(random_state=1)\n",
    "    dtree_fit= dtree.fit(X_res, y_res)\n",
    "    evaluate_classifier_1(f\"Dtree {name}\", results, dtree, X_test, y_test)\n",
    "    \n",
    "    ANN=MLPClassifier(hidden_layer_sizes=(500,200,100,10), max_iter=1000)\n",
    "    ANN.fit(X_res, y_res)\n",
    "    evaluate_classifier_1(f\"ANN {name}\", results, ANN, X_test, y_test)\n",
    "    \n",
    "    \n",
    "    aboost = AdaBoostClassifier()\n",
    "    aboost.fit(X_res, y_res)\n",
    "    evaluate_classifier_1(f\"aboost {name}\", results, aboost, X_test, y_test)\n",
    "    \n",
    "    \n",
    "    gboost = GradientBoostingClassifier()\n",
    "    gboost.fit(X_res, y_res)\n",
    "    evaluate_classifier_1(f\"gboost {name}\", results, gboost, X_test, y_test)"
   ]
  },
  {
   "cell_type": "code",
   "execution_count": 313,
   "id": "8f4eed37",
   "metadata": {},
   "outputs": [
    {
     "data": {
      "text/html": [
       "<div>\n",
       "<style scoped>\n",
       "    .dataframe tbody tr th:only-of-type {\n",
       "        vertical-align: middle;\n",
       "    }\n",
       "\n",
       "    .dataframe tbody tr th {\n",
       "        vertical-align: top;\n",
       "    }\n",
       "\n",
       "    .dataframe thead th {\n",
       "        text-align: right;\n",
       "    }\n",
       "</style>\n",
       "<table border=\"1\" class=\"dataframe\">\n",
       "  <thead>\n",
       "    <tr style=\"text-align: right;\">\n",
       "      <th></th>\n",
       "      <th>Description</th>\n",
       "      <th>Accuracy</th>\n",
       "      <th>Recall</th>\n",
       "      <th>Precision</th>\n",
       "      <th>f1-score</th>\n",
       "      <th>Total_annual_profit</th>\n",
       "    </tr>\n",
       "  </thead>\n",
       "  <tbody>\n",
       "    <tr>\n",
       "      <th>0</th>\n",
       "      <td>SVC SMOTE</td>\n",
       "      <td>0.981890</td>\n",
       "      <td>0.981890</td>\n",
       "      <td>0.982509</td>\n",
       "      <td>0.982000</td>\n",
       "      <td>897416500.0</td>\n",
       "    </tr>\n",
       "    <tr>\n",
       "      <th>1</th>\n",
       "      <td>KNN SMOTE</td>\n",
       "      <td>0.753543</td>\n",
       "      <td>0.753543</td>\n",
       "      <td>0.769402</td>\n",
       "      <td>0.757721</td>\n",
       "      <td>708522500.0</td>\n",
       "    </tr>\n",
       "    <tr>\n",
       "      <th>2</th>\n",
       "      <td>RandomForestClassifier SMOTE</td>\n",
       "      <td>0.999213</td>\n",
       "      <td>0.999213</td>\n",
       "      <td>0.999213</td>\n",
       "      <td>0.999213</td>\n",
       "      <td>909982500.0</td>\n",
       "    </tr>\n",
       "    <tr>\n",
       "      <th>3</th>\n",
       "      <td>Dtree SMOTE</td>\n",
       "      <td>1.000000</td>\n",
       "      <td>1.000000</td>\n",
       "      <td>1.000000</td>\n",
       "      <td>1.000000</td>\n",
       "      <td>910561500.0</td>\n",
       "    </tr>\n",
       "    <tr>\n",
       "      <th>4</th>\n",
       "      <td>ANN SMOTE</td>\n",
       "      <td>0.959055</td>\n",
       "      <td>0.959055</td>\n",
       "      <td>0.960186</td>\n",
       "      <td>0.959291</td>\n",
       "      <td>871728000.0</td>\n",
       "    </tr>\n",
       "    <tr>\n",
       "      <th>5</th>\n",
       "      <td>aboost SMOTE</td>\n",
       "      <td>0.580315</td>\n",
       "      <td>0.580315</td>\n",
       "      <td>0.431116</td>\n",
       "      <td>0.470246</td>\n",
       "      <td>472969500.0</td>\n",
       "    </tr>\n",
       "    <tr>\n",
       "      <th>6</th>\n",
       "      <td>gboost SMOTE</td>\n",
       "      <td>1.000000</td>\n",
       "      <td>1.000000</td>\n",
       "      <td>1.000000</td>\n",
       "      <td>1.000000</td>\n",
       "      <td>910561500.0</td>\n",
       "    </tr>\n",
       "  </tbody>\n",
       "</table>\n",
       "</div>"
      ],
      "text/plain": [
       "                    Description  Accuracy    Recall  Precision  f1-score  \\\n",
       "0                     SVC SMOTE  0.981890  0.981890   0.982509  0.982000   \n",
       "1                     KNN SMOTE  0.753543  0.753543   0.769402  0.757721   \n",
       "2  RandomForestClassifier SMOTE  0.999213  0.999213   0.999213  0.999213   \n",
       "3                   Dtree SMOTE  1.000000  1.000000   1.000000  1.000000   \n",
       "4                     ANN SMOTE  0.959055  0.959055   0.960186  0.959291   \n",
       "5                  aboost SMOTE  0.580315  0.580315   0.431116  0.470246   \n",
       "6                  gboost SMOTE  1.000000  1.000000   1.000000  1.000000   \n",
       "\n",
       "   Total_annual_profit  \n",
       "0          897416500.0  \n",
       "1          708522500.0  \n",
       "2          909982500.0  \n",
       "3          910561500.0  \n",
       "4          871728000.0  \n",
       "5          472969500.0  \n",
       "6          910561500.0  "
      ]
     },
     "execution_count": 313,
     "metadata": {},
     "output_type": "execute_result"
    }
   ],
   "source": [
    "results"
   ]
  },
  {
   "cell_type": "markdown",
   "id": "3c0e8600",
   "metadata": {},
   "source": [
    "From above table the maximum profit is achieved in Decision tree and Gradiant boost models."
   ]
  },
  {
   "cell_type": "markdown",
   "id": "7187a7d1",
   "metadata": {},
   "source": [
    "# Conclusion"
   ]
  },
  {
   "attachments": {},
   "cell_type": "markdown",
   "id": "57db946c",
   "metadata": {},
   "source": [
    "Here the problem statement is to predict he demand of bike count amog the five categories of target variable, for every cycle in use we earn a revenue of 1000 krw and operation cost 500 krw, total profit per bike per hour is 500 krw, For our model the loss due to False positives and false negatives are qual, so we considered F1 as best evaluation metrics, along wih that we also calculated the total annual profit per annnum and used it to evaluate a model.\n",
    "\n",
    "\n",
    "\n",
    "For a best model where it predicts the all TP accuately it gives the maximum profit and it is considerd as nest model, here in the results table we can see that Decision tree with SMOTE and Gradient boost models with SMOTE pedict the classes accuratly with F1 score.\n",
    "\n",
    "\n",
    "Here we also observe that using balancing methods like SMOTE we increased the F1 score and profit of Support vector classifier increased a bit 892265000.0 to 895936500.0.\n",
    "\n",
    "So we can consider decision tree and gradient boost models can be considerd as a best models and can be implemented for predicting the category of bike count. It may likely to overfit the model and may have high variance. so we need a proper monitoring on performce of model on future data.\n",
    "\n",
    "Best use of model:\n",
    "\n",
    "1. Here The data set consist of only the weather data ( weather risk) ,we can add some other features like, geographical details, demographic features to predict bike count demand.\n",
    "\n",
    "2. For evaluation we considered the price and cost as per 2018 stats data, it should be revised as per the latest price details  for max performance of a model.\n",
    "\n",
    "3. We cannot use this model for different locations( in different cities)  in some cities there may be swift change in weather forecast, so additional features are required for demand forecast. \n"
   ]
  },
  {
   "cell_type": "code",
   "execution_count": null,
   "id": "50285919",
   "metadata": {},
   "outputs": [],
   "source": []
  }
 ],
 "metadata": {
  "kernelspec": {
   "display_name": "Python 3 (ipykernel)",
   "language": "python",
   "name": "python3"
  },
  "language_info": {
   "codemirror_mode": {
    "name": "ipython",
    "version": 3
   },
   "file_extension": ".py",
   "mimetype": "text/x-python",
   "name": "python",
   "nbconvert_exporter": "python",
   "pygments_lexer": "ipython3",
   "version": "3.11.4"
  }
 },
 "nbformat": 4,
 "nbformat_minor": 5
}
